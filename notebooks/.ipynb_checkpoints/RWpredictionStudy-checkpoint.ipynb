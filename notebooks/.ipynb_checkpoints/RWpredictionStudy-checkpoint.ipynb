{
 "cells": [
  {
   "cell_type": "code",
   "execution_count": 5,
   "metadata": {},
   "outputs": [],
   "source": [
    "import matplotlib.pyplot as plt\n",
    "%matplotlib inline\n",
    "import sys, os\n",
    "sys.path.append(\"..\")\n",
    "sys.path.append(os.path.join(\"../src/\", \"Solvers\"))\n",
    "sys.path.append(os.path.join(\"../src/\", \"Expert\"))\n",
    "sys.path.append(os.path.join(\"../src/\", \"Simulator\", \"simulator\"))\n",
    "\n",
    "from RwSolver import *\n",
    "from Experiment import *\n",
    "from Generator import *\n",
    "from senv import *\n",
    "\n",
    "from numpy.linalg import norm\n",
    "from tqdm import tqdm"
   ]
  },
  {
   "cell_type": "code",
   "execution_count": 2,
   "metadata": {},
   "outputs": [
    {
     "name": "stderr",
     "output_type": "stream",
     "text": [
      "/usr/local/lib/python3.7/site-packages/networkx/drawing/nx_pylab.py:563: MatplotlibDeprecationWarning: \n",
      "The iterable function was deprecated in Matplotlib 3.1 and will be removed in 3.3. Use np.iterable instead.\n",
      "  if not cb.iterable(width):\n",
      "/usr/local/lib/python3.7/site-packages/networkx/drawing/nx_pylab.py:611: MatplotlibDeprecationWarning: \n",
      "The is_numlike function was deprecated in Matplotlib 3.0 and will be removed in 3.2. Use isinstance(..., numbers.Number) instead.\n",
      "  if cb.is_numlike(alpha):\n"
     ]
    },
    {
     "data": {
      "image/png": "[encoded data removed]",
      "text/plain": [
       "<Figure size 432x288 with 1 Axes>"
      ]
     },
     "metadata": {},
     "output_type": "display_data"
    }
   ],
   "source": [
    "# case 1: simple symmetric graph with ground-truth probabilities\n",
    "params = {\n",
    "    \"dataset_type\": \"triangle\",\n",
    "    \"time_periods\": 4,\n",
    "    \"days\": 100,\n",
    "    \"order_distr\": \"uniform\",\n",
    "    \"orders_density\": 0.5,\n",
    "    \"number_of_cars\": 2,\n",
    "    \"time_periods_per_hour\": 2\n",
    "}\n",
    "gen = Generator(\"manual\", params)\n",
    "gen.generate()\n",
    "g = gen.G\n",
    "nx.draw(g)"
   ]
  },
  {
   "cell_type": "code",
   "execution_count": 3,
   "metadata": {},
   "outputs": [],
   "source": [
    "# get prediction from rwsolver and see if it is reasonable\n",
    "delta = 1\n",
    "p_init = np.array([[1,0,0], [0,1,0], [0,0,1],[1,0,0], [0,1,0], [0,0,1],[1,0,0], [0,1,0], [0,0,1]])\n",
    "number_of_cars = np.sum(p_init)\n",
    "random_average = np.ones((3,3))\n",
    "random_average[0,1] = 0\n",
    "random_average[0,2] = 0\n",
    "np.fill_diagonal(random_average, 0)\n",
    "expected_demand = np.sum(random_average,axis=1)\n",
    "Pr = (random_average.T / expected_demand).T\n",
    "Pr[0, :] = 1/3\n",
    "iterations = 100\n",
    "A = np.ones((3,3)) / 3\n",
    "distr, p_busy = RwSolver.get_transition_probability(iterations, Pr, A, expected_demand, p_init, number_of_cars, delta)"
   ]
  },
  {
   "cell_type": "code",
   "execution_count": 4,
   "metadata": {},
   "outputs": [
    {
     "data": {
      "text/plain": [
       "(array([[0.40433393, 0.29783303, 0.29783303],\n",
       "        [0.40433393, 0.29783303, 0.29783303],\n",
       "        [0.40433393, 0.29783303, 0.29783303],\n",
       "        [0.40433393, 0.29783303, 0.29783303],\n",
       "        [0.40433393, 0.29783303, 0.29783303],\n",
       "        [0.40433393, 0.29783303, 0.29783303],\n",
       "        [0.40433393, 0.29783303, 0.29783303],\n",
       "        [0.40433393, 0.29783303, 0.29783303],\n",
       "        [0.40433393, 0.29783303, 0.29783303]]),\n",
       " array([0.        , 0.71517183, 0.71517183]))"
      ]
     },
     "execution_count": 4,
     "metadata": {},
     "output_type": "execute_result"
    }
   ],
   "source": [
    "distr, p_busy"
   ]
  },
  {
   "cell_type": "code",
   "execution_count": 5,
   "metadata": {},
   "outputs": [],
   "source": [
    "car_distribution = [0,0,0,1,1,1,2,2,2]\n",
    "wc = 0.1\n",
    "dist = np.ones((3,3))\n",
    "env = CitySimple(g, wc, random_average, car_distribution, dist, A)"
   ]
  },
  {
   "cell_type": "code",
   "execution_count": 6,
   "metadata": {},
   "outputs": [
    {
     "data": {
      "text/plain": [
       "array([[0.3823, 0.3074, 0.3103],\n",
       "       [0.3908, 0.3015, 0.3077],\n",
       "       [0.3936, 0.3073, 0.2991],\n",
       "       [0.3897, 0.302 , 0.3083],\n",
       "       [0.3837, 0.3103, 0.306 ],\n",
       "       [0.3879, 0.3066, 0.3055],\n",
       "       [0.3909, 0.3121, 0.297 ],\n",
       "       [0.3912, 0.3062, 0.3026],\n",
       "       [0.3844, 0.3117, 0.3039]])"
      ]
     },
     "execution_count": 6,
     "metadata": {},
     "output_type": "execute_result"
    }
   ],
   "source": [
    "env.run(iterations=10000)\n",
    "env.target_locations / 10000"
   ]
  },
  {
   "cell_type": "code",
   "execution_count": 7,
   "metadata": {},
   "outputs": [
    {
     "data": {
      "text/plain": [
       "0.06248151266181716"
      ]
     },
     "execution_count": 7,
     "metadata": {},
     "output_type": "execute_result"
    }
   ],
   "source": [
    "norm(env.target_locations / 10000 - distr)"
   ]
  },
  {
   "cell_type": "code",
   "execution_count": 8,
   "metadata": {},
   "outputs": [
    {
     "name": "stderr",
     "output_type": "stream",
     "text": [
      "100%|██████████| 10/10 [00:38<00:00,  5.74s/it]\n"
     ]
    }
   ],
   "source": [
    "# case 2: random graph\n",
    "\n",
    "scale = 0.3\n",
    "n = 5\n",
    "mc_iterations = 1000\n",
    "delta = 0.5\n",
    "wc = 0.3\n",
    "\n",
    "world = nx.grid_2d_graph(n, n)\n",
    "for v in world.nodes():\n",
    "    world.node[v]['coords'] = (v[0], v[1])\n",
    "world = nx.convert_node_labels_to_integers(world)\n",
    "\n",
    "N = n*n\n",
    "dist = np.zeros((N, N))\n",
    "for i in range(N):\n",
    "    for j in range(i, N):\n",
    "        dist[i,j] = euclidean(world.node[i]['coords'], world.node[j]['coords'])\n",
    "        dist[j,i] = dist[i,j]\n",
    "\n",
    "# random driver and order distribution\n",
    "np.random.seed(123123)\n",
    "errors = []\n",
    "for number_of_cars in tqdm(range(10, 300, 30)):\n",
    "    random_average = np.random.random(size=(N,N))*scale\n",
    "    Pr = np.divide(random_average.T, np.sum(random_average,axis=1)).T\n",
    "    car_distribution = np.random.choice(N, number_of_cars)\n",
    "    p_init = np.zeros((number_of_cars, N))\n",
    "    for i in range(len(car_distribution)):\n",
    "        p_init[i][car_distribution[i]] = 1\n",
    "\n",
    "    A = np.zeros((N,N))\n",
    "    for i in range(N):\n",
    "        A[i][i] = np.random.random()\n",
    "        for j in world.neighbors(i):\n",
    "            A[i][j] = np.random.random()\n",
    "    A = (A.T / np.sum(A,axis=1)).T\n",
    "\n",
    "    expected_demand = np.sum(random_average, axis=1)\n",
    "    p_estimation, p_busy = RwSolver.get_transition_probability(mc_iterations, Pr, A, expected_demand, p_init, number_of_cars, 1)\n",
    "    expected_revenue = RwSolver.get_expected_revenue(p_estimation, p_busy, Pr, A, expected_demand, number_of_cars, dist, wc, world)\n",
    "    target_locations = np.zeros((number_of_cars, N))\n",
    "    simulator = CitySimple(world, wc, random_average, car_distribution, dist, A)\n",
    "    simulator.run()\n",
    "    target_locations = simulator.target_locations\n",
    "    simulated_revenue = np.mean(simulator.total_revenue)\n",
    "\n",
    "    p_mc = target_locations / mc_iterations\n",
    "    p_diff = np.ones(p_mc.shape)\n",
    "    p_diff = (p_diff.T / np.sum(p_diff, axis=1)).T\n",
    "    error = norm(p_mc - p_estimation)\n",
    "    error2 = norm(p_mc - p_diff)\n",
    "    errors.append((number_of_cars, error2, error, expected_revenue, simulated_revenue))\n",
    "errors = np.array(errors)"
   ]
  },
  {
   "cell_type": "code",
   "execution_count": 9,
   "metadata": {},
   "outputs": [
    {
     "data": {
      "text/plain": [
       "<matplotlib.legend.Legend at 0x130e17470>"
      ]
     },
     "execution_count": 9,
     "metadata": {},
     "output_type": "execute_result"
    },
    {
     "data": {
      "image/png": "[encoded data removed]",
      "text/plain": [
       "<Figure size 432x288 with 1 Axes>"
      ]
     },
     "metadata": {
      "needs_background": "light"
     },
     "output_type": "display_data"
    }
   ],
   "source": [
    "plt.plot(errors[:,0], errors[:,1], label=\"diff\")\n",
    "plt.plot(errors[:,0], errors[:,2], label=\"rw\")\n",
    "plt.xlabel(\"number of cars\")\n",
    "plt.ylabel(\"matrix norm of error\")\n",
    "plt.legend()"
   ]
  },
  {
   "cell_type": "code",
   "execution_count": 10,
   "metadata": {},
   "outputs": [
    {
     "data": {
      "text/plain": [
       "<matplotlib.legend.Legend at 0x130e6deb8>"
      ]
     },
     "execution_count": 10,
     "metadata": {},
     "output_type": "execute_result"
    },
    {
     "data": {
      "image/png": "[encoded data removed]",
      "text/plain": [
       "<Figure size 432x288 with 1 Axes>"
      ]
     },
     "metadata": {
      "needs_background": "light"
     },
     "output_type": "display_data"
    }
   ],
   "source": [
    "plt.plot(errors[:,0], errors[:,3], label=\"exp revenue\")\n",
    "plt.plot(errors[:,0], errors[:,4], label=\"real revenue\")\n",
    "plt.title(\"the more cars the better prediction\")\n",
    "plt.xlabel(\"nubmer of cars\")\n",
    "plt.ylabel(\"revenue\")\n",
    "plt.legend()\n",
    "\n",
    "##### HOW CAN REVENUE BE DECREASING!!!!!!!!!!!!????????????"
   ]
  },
  {
   "cell_type": "code",
   "execution_count": 6,
   "metadata": {},
   "outputs": [],
   "source": [
    "# case 3: star\n",
    "\n",
    "# we dont improve policy, so we don't run experiment here completely\n",
    "params = {\n",
    "    \"tag\": \"manual\",\n",
    "    \"data\": {\n",
    "      \"dataset_type\": \"grid\",\n",
    "      \"n\": 5,\n",
    "      \"time_periods\": 1,\n",
    "      \"days\": 100,\n",
    "      \"order_distr\": \"star\",\n",
    "      \"orders_density\": 20,\n",
    "      \"number_of_cars\": 100,\n",
    "      \"time_periods_per_hour\": 1\n",
    "    },\n",
    "    \"gamma\": 0.5,\n",
    "    \"wc\": 0.3,\n",
    "    \"train_test_split\": 0.8,\n",
    "    \"mode\": \"Train\"\n",
    "}\n",
    "\n",
    "gen = Generator(\"manual\", params['data'])\n",
    "info = gen.generate()\n",
    "world = gen.G\n",
    "params['dataset'] = info \n",
    "\n",
    "solver = ValIterSolver(**params)\n",
    "# comparison with valueiter should be for many steps and for few steps (like within a day, or within an hour)\n",
    "# and then also there should be comparison when probabilities are different?"
   ]
  },
  {
   "cell_type": "code",
   "execution_count": 7,
   "metadata": {},
   "outputs": [],
   "source": [
    "solver.train()"
   ]
  },
  {
   "cell_type": "code",
   "execution_count": 8,
   "metadata": {},
   "outputs": [
    {
     "data": {
      "text/plain": [
       "(1, 25)"
      ]
     },
     "execution_count": 8,
     "metadata": {},
     "output_type": "execute_result"
    }
   ],
   "source": [
    "solver.dyn_value_table.shape"
   ]
  },
  {
   "cell_type": "code",
   "execution_count": 9,
   "metadata": {},
   "outputs": [],
   "source": [
    "real_orders, idle_driver_locations, onoff_driver_locations = solver.get_train_data()"
   ]
  },
  {
   "cell_type": "code",
   "execution_count": 10,
   "metadata": {},
   "outputs": [
    {
     "data": {
      "text/plain": [
       "(array([[4., 4., 4., ..., 4., 4., 4.],\n",
       "        [4., 4., 4., ..., 4., 4., 4.],\n",
       "        [4., 4., 4., ..., 4., 4., 4.],\n",
       "        ...,\n",
       "        [4., 4., 4., ..., 4., 4., 4.],\n",
       "        [4., 4., 4., ..., 4., 4., 4.],\n",
       "        [4., 4., 4., ..., 4., 4., 4.]]), (80, 25))"
      ]
     },
     "execution_count": 10,
     "metadata": {},
     "output_type": "execute_result"
    }
   ],
   "source": [
    "idle_driver_locations, idle_driver_locations.shape"
   ]
  },
  {
   "cell_type": "code",
   "execution_count": 11,
   "metadata": {},
   "outputs": [],
   "source": [
    "random_average = np.array(pkl.load(open(os.path.join(solver.dpath, \"random_average_original.pkl\"), \"rb\")))[0,:,:] # last for time"
   ]
  },
  {
   "cell_type": "code",
   "execution_count": 30,
   "metadata": {},
   "outputs": [],
   "source": [
    "mc_iterations = 1000\n",
    "expected_demand = np.sum(random_average, axis=1)\n",
    "Pr = np.divide(random_average.T, expected_demand).T\n",
    "Pr[np.where(expected_demand == 0),:] = np.ones(Pr.shape[1])/Pr.shape[1]\n",
    "car_distribution = CitySimple.build_car_distribution(idle_driver_locations)\n",
    "number_of_cars = len(car_distribution)\n",
    "\n",
    "p_init = np.zeros((number_of_cars, len(world)))\n",
    "for i in range(len(car_distribution)):\n",
    "    p_init[i][int(car_distribution[i])] = 1\n",
    "N = len(world)\n",
    "\n",
    "number_of_cars = params['data']['number_of_cars']\n",
    "dist = np.zeros((N, N))\n",
    "for i in range(N):\n",
    "    for j in range(i, N):\n",
    "        dist[i,j] = euclidean(world.node[i]['coords'], world.node[j]['coords'])\n",
    "        dist[j,i] = dist[i,j]\n",
    "wc = params['wc']\n",
    "\n",
    "A = np.zeros((len(world), len(world)))\n",
    "for node in world.nodes():\n",
    "    neighbor_iis = list(world.neighbors(node)) + [node]\n",
    "    temp_values = deepcopy(solver.dyn_value_table[0][neighbor_iis])\n",
    "    temp_values[temp_values - temp_values[-1] < 0] = 0\n",
    "    \n",
    "    probability_values = np.exp(temp_values)/sum(np.exp(temp_values))\n",
    "    probability_values[probability_values - probability_values[-1] < 0] = 0\n",
    "    probability_values = probability_values/np.sum(probability_values)\n",
    "    A[node][neighbor_iis] = probability_values\n",
    "\n",
    "p_estimation, p_busy = RwSolver.get_transition_probability(mc_iterations, Pr, A, expected_demand, p_init, number_of_cars, 1)\n",
    "expected_revenue = RwSolver.get_expected_revenue_per_cell(p_estimation, p_busy, Pr, dist, wc)"
   ]
  },
  {
   "cell_type": "code",
   "execution_count": 31,
   "metadata": {},
   "outputs": [
    {
     "data": {
      "text/plain": [
       "(array([0., 0., 0., 0., 0., 0., 0., 0., 0., 0., 0., 0., 1., 0., 0., 0., 0.,\n",
       "        0., 0., 0., 0., 0., 0., 0., 0.]),\n",
       " array([ 0.00000000e+000, -0.00000000e+000, -0.00000000e+000,\n",
       "        -0.00000000e+000,  0.00000000e+000, -0.00000000e+000,\n",
       "        -0.00000000e+000, -2.11568881e-300, -0.00000000e+000,\n",
       "        -0.00000000e+000, -0.00000000e+000, -0.00000000e+000,\n",
       "        -3.00000000e+001, -0.00000000e+000, -0.00000000e+000,\n",
       "        -0.00000000e+000, -0.00000000e+000, -0.00000000e+000,\n",
       "        -0.00000000e+000, -0.00000000e+000,  0.00000000e+000,\n",
       "        -0.00000000e+000, -0.00000000e+000, -0.00000000e+000,\n",
       "         0.00000000e+000]),\n",
       " array([[ 6.89844328, 14.39999541, 21.90003929, 14.39999541,  6.89844328,\n",
       "         14.39792069, 29.39999197, 59.39998853, 29.39999197, 14.39792069,\n",
       "         29.39999426, 44.40008317, 59.4       , 44.40008317, 29.39999426,\n",
       "         10.64898323, 29.39999426, 44.40008317, 29.39999426, 10.64898323,\n",
       "          6.89980369, 10.64898323, 29.39999426, 10.64898323,  6.89980369]]))"
      ]
     },
     "execution_count": 31,
     "metadata": {},
     "output_type": "execute_result"
    }
   ],
   "source": [
    "p_estimation[0], expected_revenue, solver.dyn_value_table"
   ]
  },
  {
   "cell_type": "code",
   "execution_count": 49,
   "metadata": {},
   "outputs": [],
   "source": [
    "# conclusion - I can not compare on fine granularity rw and valueIter. I also can not compare results, because I don't do\n",
    "# optimization at this point. so the only thing is that I can compare with diff and simulator of how good is prediction \n",
    "# on various types of networks\n",
    "\n",
    "# so lets see how about convergence on the star....\n",
    "errors = []\n",
    "for rw_it in [1,2,3,4,5,8,10,15]:#10, 100, 1000, 2000, 3000, 5000]:\n",
    "    expected_demand = np.sum(random_average, axis=1)\n",
    "    p_estimation, p_busy = RwSolver.get_transition_probability(rw_it, Pr, A, expected_demand, p_init, number_of_cars, 1)\n",
    "    expected_revenue = RwSolver.get_expected_revenue(p_estimation, p_busy, Pr, A, expected_demand, number_of_cars, dist, wc, world)\n",
    "    target_locations = np.zeros((number_of_cars, N))\n",
    "    simulator = CitySimple(world, wc, random_average, car_distribution, dist, A)\n",
    "    simulator.run()\n",
    "    target_locations = simulator.target_locations\n",
    "    simulated_revenue = np.mean(simulator.total_revenue)\n",
    "\n",
    "    p_mc = target_locations / mc_iterations\n",
    "    p_diff = np.ones(p_mc.shape)\n",
    "    p_diff = (p_diff.T / np.sum(p_diff, axis=1)).T\n",
    "    error = norm(p_mc - p_estimation)\n",
    "    error2 = norm(p_mc - p_diff)\n",
    "    errors.append((rw_it, error, error2, expected_revenue, simulated_revenue))\n",
    "errors = np.array(errors)"
   ]
  },
  {
   "cell_type": "code",
   "execution_count": 50,
   "metadata": {},
   "outputs": [
    {
     "data": {
      "text/plain": [
       "<matplotlib.legend.Legend at 0x13051e320>"
      ]
     },
     "execution_count": 50,
     "metadata": {},
     "output_type": "execute_result"
    },
    {
     "data": {
      "image/png": "[encoded data removed]",
      "text/plain": [
       "<Figure size 432x288 with 1 Axes>"
      ]
     },
     "metadata": {
      "needs_background": "light"
     },
     "output_type": "display_data"
    }
   ],
   "source": [
    "plt.plot(errors[:,0], errors[:,1], label=\"estimation\")\n",
    "plt.plot(errors[:,0], errors[:,2], label=\"diff\")\n",
    "plt.legend()"
   ]
  },
  {
   "cell_type": "code",
   "execution_count": 51,
   "metadata": {},
   "outputs": [
    {
     "data": {
      "text/plain": [
       "<matplotlib.legend.Legend at 0x1306184a8>"
      ]
     },
     "execution_count": 51,
     "metadata": {},
     "output_type": "execute_result"
    },
    {
     "data": {
      "image/png": "[encoded data removed]",
      "text/plain": [
       "<Figure size 432x288 with 1 Axes>"
      ]
     },
     "metadata": {
      "needs_background": "light"
     },
     "output_type": "display_data"
    }
   ],
   "source": [
    "plt.plot(errors[:,0], errors[:,3], label=\"exp revenue\")\n",
    "plt.plot(errors[:,0], errors[:,4], label=\"real revenue\")\n",
    "plt.title(\"the more cars the better prediction\")\n",
    "plt.xlabel(\"nubmer of cars\")\n",
    "plt.ylabel(\"revenue\")\n",
    "plt.legend()"
   ]
  },
  {
   "cell_type": "code",
   "execution_count": 4,
   "metadata": {},
   "outputs": [],
   "source": [
    "# case 4: triangle"
   ]
  },
  {
   "cell_type": "code",
   "execution_count": 5,
   "metadata": {},
   "outputs": [],
   "source": [
    "# case 5: center cluster"
   ]
  },
  {
   "cell_type": "code",
   "execution_count": 6,
   "metadata": {},
   "outputs": [],
   "source": [
    "# case 6: two unequal cluster centers"
   ]
  },
  {
   "cell_type": "code",
   "execution_count": 7,
   "metadata": {},
   "outputs": [],
   "source": [
    "# case 7: large and single source single sink"
   ]
  },
  {
   "cell_type": "code",
   "execution_count": null,
   "metadata": {},
   "outputs": [],
   "source": [
    "# case 8: "
   ]
  }
 ],
 "metadata": {
  "kernelspec": {
   "display_name": "Python 3",
   "language": "python",
   "name": "python3"
  },
  "language_info": {
   "codemirror_mode": {
    "name": "ipython",
    "version": 3
   },
   "file_extension": ".py",
   "mimetype": "text/x-python",
   "name": "python",
   "nbconvert_exporter": "python",
   "pygments_lexer": "ipython3",
   "version": "3.7.3"
  }
 },
 "nbformat": 4,
 "nbformat_minor": 2
}
