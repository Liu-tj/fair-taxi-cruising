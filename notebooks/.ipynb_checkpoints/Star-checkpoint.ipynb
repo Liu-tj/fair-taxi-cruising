{
 "cells": [
  {
   "cell_type": "code",
   "execution_count": 13,
   "metadata": {},
   "outputs": [],
   "source": [
    "import matplotlib.pyplot as plt\n",
    "%matplotlib inline\n",
    "import sys, os\n",
    "from src.Expert.Experiment import *\n",
    "from src.Expert.Analyzer import *"
   ]
  },
  {
   "cell_type": "code",
   "execution_count": 16,
   "metadata": {},
   "outputs": [
    {
     "data": {
      "text/plain": [
       "Index(['_id', 'dataset_id', 'dataset_path', 'dataset_type', 'days',\n",
       "       'dummy_data_param', 'mode', 'n', 'number_of_cars', 'order_distr',\n",
       "       'orders_density', 'seeds', 'solver', 'states', 'tag',\n",
       "       'test_mean_min_income', 'test_mean_rewards', 'test_min_income',\n",
       "       'test_number_of_orders', 'test_rewards', 'test_test_time',\n",
       "       'test_total_min_reward_per_epoch',\n",
       "       'test_total_min_reward_per_epoch_std', 'test_total_reward_per_epoch',\n",
       "       'test_total_reward_per_epoch_std', 'testing_epochs', 'time_periods',\n",
       "       'time_periods_per_hour', 'trained_model_id', 'wc'],\n",
       "      dtype='object')"
      ]
     },
     "execution_count": 16,
     "metadata": {},
     "output_type": "execute_result"
    }
   ],
   "source": [
    "df = Analyzer(\"star\").df\n",
    "df.columns"
   ]
  },
  {
   "cell_type": "code",
   "execution_count": 19,
   "metadata": {},
   "outputs": [
    {
     "data": {
      "text/html": [
       "<div>\n",
       "<style scoped>\n",
       "    .dataframe tbody tr th:only-of-type {\n",
       "        vertical-align: middle;\n",
       "    }\n",
       "\n",
       "    .dataframe tbody tr th {\n",
       "        vertical-align: top;\n",
       "    }\n",
       "\n",
       "    .dataframe thead th {\n",
       "        text-align: right;\n",
       "    }\n",
       "</style>\n",
       "<table border=\"1\" class=\"dataframe\">\n",
       "  <thead>\n",
       "    <tr style=\"text-align: right;\">\n",
       "      <th></th>\n",
       "      <th>solver</th>\n",
       "      <th>test_total_reward_per_epoch</th>\n",
       "      <th>test_total_reward_per_epoch_std</th>\n",
       "      <th>test_total_min_reward_per_epoch</th>\n",
       "      <th>test_total_min_reward_per_epoch_std</th>\n",
       "    </tr>\n",
       "  </thead>\n",
       "  <tbody>\n",
       "    <tr>\n",
       "      <th>0</th>\n",
       "      <td>No</td>\n",
       "      <td>491.88694</td>\n",
       "      <td>10.089911</td>\n",
       "      <td>0.263117</td>\n",
       "      <td>0.125137</td>\n",
       "    </tr>\n",
       "    <tr>\n",
       "      <th>1</th>\n",
       "      <td>Diff</td>\n",
       "      <td>465.51124</td>\n",
       "      <td>13.080271</td>\n",
       "      <td>0.200548</td>\n",
       "      <td>0.093853</td>\n",
       "    </tr>\n",
       "  </tbody>\n",
       "</table>\n",
       "</div>"
      ],
      "text/plain": [
       "  solver  test_total_reward_per_epoch  test_total_reward_per_epoch_std  \\\n",
       "0     No                    491.88694                        10.089911   \n",
       "1   Diff                    465.51124                        13.080271   \n",
       "\n",
       "   test_total_min_reward_per_epoch  test_total_min_reward_per_epoch_std  \n",
       "0                         0.263117                             0.125137  \n",
       "1                         0.200548                             0.093853  "
      ]
     },
     "execution_count": 19,
     "metadata": {},
     "output_type": "execute_result"
    }
   ],
   "source": [
    "df[['solver', 'test_total_reward_per_epoch', 'test_total_reward_per_epoch_std', \n",
    "    'test_total_min_reward_per_epoch', 'test_total_min_reward_per_epoch_std']]"
   ]
  },
  {
   "cell_type": "code",
   "execution_count": null,
   "metadata": {},
   "outputs": [],
   "source": []
  }
 ],
 "metadata": {
  "kernelspec": {
   "display_name": "macao",
   "language": "python",
   "name": "macao"
  },
  "language_info": {
   "codemirror_mode": {
    "name": "ipython",
    "version": 3
   },
   "file_extension": ".py",
   "mimetype": "text/x-python",
   "name": "python",
   "nbconvert_exporter": "python",
   "pygments_lexer": "ipython3",
   "version": "3.7.5"
  }
 },
 "nbformat": 4,
 "nbformat_minor": 2
}
