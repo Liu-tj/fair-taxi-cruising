{
 "cells": [
  {
   "cell_type": "code",
   "execution_count": 1,
   "metadata": {},
   "outputs": [],
   "source": [
    "# here we want to check whether our simulation model gives in long-term the same frequency of cars in cells \n",
    "# and the same minimum wage\n",
    "# as well as the same total wage\n",
    "\n",
    "# since Pr is defined per each time interval (smoothed over intervals maybe???)\n",
    "# we can "
   ]
  },
  {
   "cell_type": "code",
   "execution_count": null,
   "metadata": {},
   "outputs": [],
   "source": [
    "# while it is running, check for rw that in long term within one Pr value both objective and car distribution converges\n",
    "# // for different Pr values what? and how it depends on the current car distribution? does the final A depend on initial p?\n",
    "# // maybe check heuristically whether A depends on initial distribution or not. if not, it just up to learning Pr\n",
    "# how does it span across different pr?"
   ]
  },
  {
   "cell_type": "code",
   "execution_count": 1,
   "metadata": {},
   "outputs": [],
   "source": [
    "# first check how realistic are convergence of RW\n",
    "import matplotlib.pyplot as plt\n",
    "%matplotlib inline\n",
    "import sys, os\n",
    "sys.path.append(\"..\")\n",
    "sys.path.append(os.path.join(\"../src/\", \"Solvers\"))\n",
    "sys.path.append(os.path.join(\"../src/\", \"Expert\"))\n",
    "from RwSolver import *\n",
    "from Experiment import *\n",
    "from Analyzer import *"
   ]
  },
  {
   "cell_type": "markdown",
   "metadata": {},
   "source": [
    "# Convergence of Pr"
   ]
  },
  {
   "cell_type": "code",
   "execution_count": 50,
   "metadata": {},
   "outputs": [
    {
     "data": {
      "text/plain": [
       "Index(['A_diff', '_id', 'actions', 'beta', 'dataset_id', 'dataset_path',\n",
       "       'dataset_type', 'days', 'debug', 'delta', 'dummy_data_param',\n",
       "       'expected_objective', 'expected_objective2', 'iterations',\n",
       "       'mean_order_response_rates', 'min_income', 'min_value_estimation',\n",
       "       'mode', 'n', 'number_of_cars', 'number_of_orders', 'order_distr',\n",
       "       'order_response_rates', 'orders_density', 'p_conv', 'p_var', 'pr_conv',\n",
       "       'predicted_busy_vs_real', 'predicted_vs_real', 'rewards', 'solver',\n",
       "       'tag', 'time_periods', 'time_periods_per_hour', 'train_test_split',\n",
       "       'wc'],\n",
       "      dtype='object')"
      ]
     },
     "execution_count": 50,
     "metadata": {},
     "output_type": "execute_result"
    }
   ],
   "source": [
    "df = Analyzer(\"rw_study\").df\n",
    "df.columns"
   ]
  },
  {
   "cell_type": "code",
   "execution_count": 51,
   "metadata": {},
   "outputs": [
    {
     "data": {
      "text/html": [
       "<div>\n",
       "<style scoped>\n",
       "    .dataframe tbody tr th:only-of-type {\n",
       "        vertical-align: middle;\n",
       "    }\n",
       "\n",
       "    .dataframe tbody tr th {\n",
       "        vertical-align: top;\n",
       "    }\n",
       "\n",
       "    .dataframe thead th {\n",
       "        text-align: right;\n",
       "    }\n",
       "</style>\n",
       "<table border=\"1\" class=\"dataframe\">\n",
       "  <thead>\n",
       "    <tr style=\"text-align: right;\">\n",
       "      <th></th>\n",
       "      <th>A_diff</th>\n",
       "      <th>_id</th>\n",
       "      <th>actions</th>\n",
       "      <th>beta</th>\n",
       "      <th>dataset_id</th>\n",
       "      <th>dataset_path</th>\n",
       "      <th>dataset_type</th>\n",
       "      <th>days</th>\n",
       "      <th>debug</th>\n",
       "      <th>delta</th>\n",
       "      <th>...</th>\n",
       "      <th>pr_conv</th>\n",
       "      <th>predicted_busy_vs_real</th>\n",
       "      <th>predicted_vs_real</th>\n",
       "      <th>rewards</th>\n",
       "      <th>solver</th>\n",
       "      <th>tag</th>\n",
       "      <th>time_periods</th>\n",
       "      <th>time_periods_per_hour</th>\n",
       "      <th>train_test_split</th>\n",
       "      <th>wc</th>\n",
       "    </tr>\n",
       "  </thead>\n",
       "  <tbody>\n",
       "    <tr>\n",
       "      <th>0</th>\n",
       "      <td>[0.11636866703140787, 0.21619941604916515, 0.2...</td>\n",
       "      <td>5d88804ad46b05869090b59a</td>\n",
       "      <td>[22, 20, 22, 19, 19, 20, 20, 22, 20, 23, 19, 1...</td>\n",
       "      <td>0.05</td>\n",
       "      <td>9c15c7ea-ae52-4513-99c7-5ee1201ae0ca</td>\n",
       "      <td>/Users/au624601/PhD/data/macaoFiles/rw_study/9...</td>\n",
       "      <td>grid</td>\n",
       "      <td>1000.0</td>\n",
       "      <td>1.0</td>\n",
       "      <td>0.5</td>\n",
       "      <td>...</td>\n",
       "      <td>[11.160862906380125, 5.524874676523016, 4.3047...</td>\n",
       "      <td>[0.02587616181170131, 0.04027837885664313, 0.0...</td>\n",
       "      <td>[1.595408113976019, 0.5717642760864808, 0.4688...</td>\n",
       "      <td>[7.186912597118443, 11.208261948856805, -1.599...</td>\n",
       "      <td>Rw</td>\n",
       "      <td>rw_study</td>\n",
       "      <td>4.0</td>\n",
       "      <td>2.0</td>\n",
       "      <td>0.2</td>\n",
       "      <td>0.3</td>\n",
       "    </tr>\n",
       "  </tbody>\n",
       "</table>\n",
       "<p>1 rows × 36 columns</p>\n",
       "</div>"
      ],
      "text/plain": [
       "                                              A_diff  \\\n",
       "0  [0.11636866703140787, 0.21619941604916515, 0.2...   \n",
       "\n",
       "                        _id  \\\n",
       "0  5d88804ad46b05869090b59a   \n",
       "\n",
       "                                             actions  beta  \\\n",
       "0  [22, 20, 22, 19, 19, 20, 20, 22, 20, 23, 19, 1...  0.05   \n",
       "\n",
       "                             dataset_id  \\\n",
       "0  9c15c7ea-ae52-4513-99c7-5ee1201ae0ca   \n",
       "\n",
       "                                        dataset_path dataset_type    days  \\\n",
       "0  /Users/au624601/PhD/data/macaoFiles/rw_study/9...         grid  1000.0   \n",
       "\n",
       "   debug  delta ...                                             pr_conv  \\\n",
       "0    1.0    0.5 ...   [11.160862906380125, 5.524874676523016, 4.3047...   \n",
       "\n",
       "                              predicted_busy_vs_real  \\\n",
       "0  [0.02587616181170131, 0.04027837885664313, 0.0...   \n",
       "\n",
       "                                   predicted_vs_real  \\\n",
       "0  [1.595408113976019, 0.5717642760864808, 0.4688...   \n",
       "\n",
       "                                             rewards  solver       tag  \\\n",
       "0  [7.186912597118443, 11.208261948856805, -1.599...      Rw  rw_study   \n",
       "\n",
       "  time_periods time_periods_per_hour  train_test_split   wc  \n",
       "0          4.0                   2.0               0.2  0.3  \n",
       "\n",
       "[1 rows x 36 columns]"
      ]
     },
     "execution_count": 51,
     "metadata": {},
     "output_type": "execute_result"
    }
   ],
   "source": [
    "df"
   ]
  },
  {
   "cell_type": "code",
   "execution_count": 52,
   "metadata": {},
   "outputs": [
    {
     "data": {
      "text/plain": [
       "Text(0.5, 1.0, 'Convergence of Pr estimation')"
      ]
     },
     "execution_count": 52,
     "metadata": {},
     "output_type": "execute_result"
    },
    {
     "data": {
      "image/png": "[encoded data removed]",
      "text/plain": [
       "<Figure size 432x288 with 1 Axes>"
      ]
     },
     "metadata": {
      "needs_background": "light"
     },
     "output_type": "display_data"
    }
   ],
   "source": [
    "plt.plot(df.iloc[0]['pr_conv'])\n",
    "plt.xlabel(\"Training days\")\n",
    "plt.ylabel(\"Sum of matrix norms per day\")\n",
    "plt.title(\"Convergence of Pr estimation\")"
   ]
  },
  {
   "cell_type": "code",
   "execution_count": 53,
   "metadata": {},
   "outputs": [
    {
     "data": {
      "text/plain": [
       "<matplotlib.legend.Legend at 0x12c89d908>"
      ]
     },
     "execution_count": 53,
     "metadata": {},
     "output_type": "execute_result"
    },
    {
     "data": {
      "image/png": "[encoded data removed]",
      "text/plain": [
       "<Figure size 432x288 with 1 Axes>"
      ]
     },
     "metadata": {
      "needs_background": "light"
     },
     "output_type": "display_data"
    }
   ],
   "source": [
    "plt.plot(df.iloc[0]['rewards'], label=\"real\")\n",
    "plt.plot(df.iloc[0]['expected_objective'], label=\"expected\")\n",
    "plt.plot(df.iloc[0]['expected_objective2'], label=\"expected after gurobi\")\n",
    "plt.xlabel(\"Training time periods\")\n",
    "plt.ylabel(\"Value\")\n",
    "plt.title(\"Estimated vs Real Avg objective (total revenue)\")\n",
    "plt.legend()"
   ]
  },
  {
   "cell_type": "code",
   "execution_count": 45,
   "metadata": {},
   "outputs": [
    {
     "data": {
      "text/plain": [
       "Text(0.5, 1.0, 'Covergence of avg car distribution to estimated car distribution')"
      ]
     },
     "execution_count": 45,
     "metadata": {},
     "output_type": "execute_result"
    },
    {
     "data": {
      "image/png": "[encoded data removed]",
      "text/plain": [
       "<Figure size 432x288 with 1 Axes>"
      ]
     },
     "metadata": {
      "needs_background": "light"
     },
     "output_type": "display_data"
    }
   ],
   "source": [
    "plt.plot(df.iloc[0]['predicted_vs_real'])\n",
    "plt.xlabel(\"Training time periods\")\n",
    "plt.ylabel(\"Matrx Diff\")\n",
    "plt.title(\"Covergence of avg car distribution to estimated car distribution\")\n",
    "# plt.ylim((0,0.1))\n",
    "# should converge to 0, with an error up to Pr estimation"
   ]
  },
  {
   "cell_type": "code",
   "execution_count": 46,
   "metadata": {},
   "outputs": [
    {
     "data": {
      "text/plain": [
       "Text(0.5, 1.0, 'Covergence of p_busy towards estimated')"
      ]
     },
     "execution_count": 46,
     "metadata": {},
     "output_type": "execute_result"
    },
    {
     "data": {
      "image/png": "[encoded data removed]",
      "text/plain": [
       "<Figure size 432x288 with 1 Axes>"
      ]
     },
     "metadata": {
      "needs_background": "light"
     },
     "output_type": "display_data"
    }
   ],
   "source": [
    "plt.plot(df.iloc[0]['predicted_busy_vs_real'], label=\"t=0\")\n",
    "# plt.plot(df.iloc[0]['predicted_busy_vs_real2'], label=\"t=1\")\n",
    "plt.legend()\n",
    "plt.xlabel(\"Training time periods\")\n",
    "plt.ylabel(\"Matrx Diff\")\n",
    "plt.title(\"Covergence of p_busy towards estimated\")"
   ]
  },
  {
   "cell_type": "code",
   "execution_count": 47,
   "metadata": {},
   "outputs": [
    {
     "data": {
      "text/plain": [
       "Text(0.5, 1.0, 'Covergence of A')"
      ]
     },
     "execution_count": 47,
     "metadata": {},
     "output_type": "execute_result"
    },
    {
     "data": {
      "image/png": "[encoded data removed]",
      "text/plain": [
       "<Figure size 432x288 with 1 Axes>"
      ]
     },
     "metadata": {
      "needs_background": "light"
     },
     "output_type": "display_data"
    }
   ],
   "source": [
    "plt.plot(df.iloc[0]['A_diff'], label=\"t=0\")\n",
    "plt.legend()\n",
    "plt.xlabel(\"Training time periods\")\n",
    "plt.ylabel(\"Matrx Diff\")\n",
    "plt.title(\"Covergence of A\")"
   ]
  },
  {
   "cell_type": "code",
   "execution_count": 48,
   "metadata": {},
   "outputs": [
    {
     "data": {
      "text/plain": [
       "Text(0.5, 1.0, 'Covergence of p towards average')"
      ]
     },
     "execution_count": 48,
     "metadata": {},
     "output_type": "execute_result"
    },
    {
     "data": {
      "image/png": "[encoded data removed]",
      "text/plain": [
       "<Figure size 432x288 with 1 Axes>"
      ]
     },
     "metadata": {
      "needs_background": "light"
     },
     "output_type": "display_data"
    }
   ],
   "source": [
    "plt.plot(df.iloc[0]['p_conv'], label=\"toward earch other\")\n",
    "plt.plot(df.iloc[0]['p_var'], label=\"diff with uni diff\")\n",
    "plt.legend()\n",
    "plt.xlabel(\"Training time periods\")\n",
    "plt.ylabel(\"Matrx Diff\")\n",
    "plt.title(\"Covergence of p towards average\")"
   ]
  },
  {
   "cell_type": "code",
   "execution_count": 49,
   "metadata": {},
   "outputs": [
    {
     "data": {
      "text/plain": [
       "<matplotlib.legend.Legend at 0x12c621438>"
      ]
     },
     "execution_count": 49,
     "metadata": {},
     "output_type": "execute_result"
    },
    {
     "data": {
      "image/png": "[encoded data removed]",
      "text/plain": [
       "<Figure size 432x288 with 1 Axes>"
      ]
     },
     "metadata": {
      "needs_background": "light"
     },
     "output_type": "display_data"
    }
   ],
   "source": [
    "plt.plot(df.iloc[0]['min_value_estimation'], label=\"Estimated\")\n",
    "plt.plot(df.iloc[0]['min_income'], label=\"Real\")  \n",
    "plt.plot(df.iloc[0]['expected_objective'], label=\"expected\")\n",
    "plt.xlabel(\"Training time periods\")\n",
    "plt.ylabel(\"Value\")\n",
    "plt.title(\"Estimated vs Real Avg objective (min revenue)\")\n",
    "plt.legend()\n",
    "# the fact that it converges means that our solution is optimal only in a long-term, as it converges to an optimal distribution"
   ]
  },
  {
   "cell_type": "markdown",
   "metadata": {},
   "source": [
    "# Simplier check"
   ]
  },
  {
   "cell_type": "code",
   "execution_count": 8,
   "metadata": {},
   "outputs": [
    {
     "name": "stdout",
     "output_type": "stream",
     "text": [
      "0.2970384038090909 0.29739682539682544\n"
     ]
    }
   ],
   "source": [
    "a = 0.3\n",
    "n = 10\n",
    "prob = (1-(1-a)**(n+1))/((n+1)*a)\n",
    "\n",
    "avg = [1/(np.sum([np.random.rand() < a for i in range(n)])+1) for sim_it in range(1000)]\n",
    "print(prob, np.mean(avg))\n"
   ]
  },
  {
   "cell_type": "code",
   "execution_count": 11,
   "metadata": {},
   "outputs": [],
   "source": [
    "log = {}\n",
    "dpath = \"/Users/au624601/PhD/data/macaoFiles/rw_study/2e0c59d9-22ef-4d7d-8176-4c42de89c78d\"\n",
    "time_periods = 2\n",
    "hours = 1\n",
    "first_test_day = int(7)\n",
    "def get_test_data():\n",
    "    idle_driver_locations = pkl.load(open(os.path.join(dpath, \"idle_driver_locations.pkl\"), \"rb\"))\n",
    "    all_real_orders = pkl.load(open(os.path.join(dpath, \"real_orders.pkl\"), \"rb\"))\n",
    "    onoff_driver_locations = pkl.load(open(os.path.join(dpath, \"onoff_driver_locations.pkl\"), \"rb\"))\n",
    "    # remove all days before first test day\n",
    "    onoff_driver_locations = onoff_driver_locations[first_test_day*time_periods:,:]\n",
    "    idle_driver_locations = idle_driver_locations[first_test_day*time_periods:,:]\n",
    "    real_orders = [[r[0], r[1], r[2], r[3], r[4]]\n",
    "                    for r in all_real_orders if r[2] >= first_test_day*time_periods]\n",
    "    return real_orders, idle_driver_locations, onoff_driver_locations\n",
    "\n",
    "def get_train_data():\n",
    "    idle_driver_locations = pkl.load(open(os.path.join(dpath, \"idle_driver_locations.pkl\"), \"rb\"))\n",
    "    all_real_orders = pkl.load(open(os.path.join(dpath, \"real_orders.pkl\"), \"rb\"))\n",
    "    onoff_driver_locations = pkl.load(open(os.path.join(dpath, \"onoff_driver_locations.pkl\"), \"rb\"))\n",
    "    # remove all days before first test day\n",
    "    onoff_driver_locations = onoff_driver_locations[:first_test_day*time_periods,:]\n",
    "    idle_driver_locations = idle_driver_locations[:first_test_day*time_periods,:]\n",
    "    real_orders = [r for r in all_real_orders if r[2] < first_test_day*time_periods]\n",
    "    return real_orders, idle_driver_locations, onoff_driver_locations\n",
    "\n",
    "world = nx.read_gpickle(os.path.join(dpath, \"world.pkl\"))\n",
    "N = len(world)\n",
    "real_orders, _, _ = get_train_data()\n",
    "real_orders, idle_driver_locations, onoff_driver_locations = get_test_data() # TODO remove later, for testing\n",
    "\n",
    "random_average = pkl.load(open(os.path.join(dpath, \"random_average_original.pkl\"), \"rb\"))\n",
    "\n",
    "expected_demand = []\n",
    "Pr = []\n",
    "for hour in range(hours):\n",
    "    random_average = pkl.load(open(os.path.join(dpath, \"random_average_original.pkl\"), \"rb\"))\n",
    "    expected_demand.append(np.sum(random_average,axis=1)) # axis=1 => summation of TO values\n",
    "    Pr.append((random_average.T / expected_demand[-1]).T)\n",
    "\n",
    "dist = np.zeros((N, N))\n",
    "for i in range(N):\n",
    "    for j in range(i, N):\n",
    "        # if world.has_edge(i,j):\n",
    "        dist[i,j] = euclidean(world.node[i]['coords'], world.node[j]['coords']) #world[i][j]['weight']\n",
    "        dist[j,i] = dist[i,j]\n",
    "dist = dist\n",
    "\n",
    "log['expected_objective'] = []\n",
    "variables = []\n",
    "for i in range(N):\n",
    "    for possibility in world.neighbors(i):\n",
    "        variables.append((i, possibility))\n",
    "\n",
    "number_of_cars = 100\n",
    "assert(number_of_cars > 0)\n",
    "\n",
    "# r = np.ones((time_periods, number_of_cars, N))*(1/N)\n",
    "idle_driver_locations2 = np.array(idle_driver_locations)\n",
    "r = np.zeros((time_periods, number_of_cars, N))\n",
    "filled_car = 0\n",
    "for i in range(idle_driver_locations2.shape[1]):\n",
    "    while idle_driver_locations2[0][i] > 0:\n",
    "        r[0][filled_car][i] += 1\n",
    "        filled_car += 1\n",
    "        idle_driver_locations2[0][i] -= 1\n",
    "p = r\n",
    "\n",
    "A = np.zeros((hours,N,N))# transition matrix for random walks, a policy\n",
    "for h in range(hours):\n",
    "    for i in range(N):\n",
    "        for j in world.neighbors(i):\n",
    "            A[h][i][j] = 0.5\n",
    "    A[h] = (A[h].T / np.sum(A[h],axis=1)).T\n",
    "\n",
    "# use probabilities per each car per each time frame for debugging\n",
    "prob_snapshot = []\n",
    "prob_snapshot_diff = []\n",
    "obj = []\n",
    "A_orig = np.copy(A)\n",
    "A_diff = []\n",
    "p_conv = []"
   ]
  },
  {
   "cell_type": "code",
   "execution_count": 12,
   "metadata": {},
   "outputs": [
    {
     "name": "stdout",
     "output_type": "stream",
     "text": [
      "iter 0\n",
      "Node 0: 4 were assigned to orders, revenue 9.30056307974577.\n",
      "Node 1: 1 were assigned to orders, revenue 2.23606797749979.\n",
      "Node 2: 4 were assigned to orders, revenue 6.82842712474619.\n",
      "Node 3: 5 were assigned to orders, revenue 7.650281539872885.\n",
      "Node 4: 7 were assigned to orders, revenue 8.242640687119286.\n",
      "Node 5: 3 were assigned to orders, revenue 5.23606797749979.\n",
      "Node 6: 5 were assigned to orders, revenue 9.47213595499958.\n",
      "Node 7: 4 were assigned to orders, revenue 6.650281539872885.\n",
      "Node 8: 4 were assigned to orders, revenue 6.23606797749979.\n",
      "Removed 63 drivers due to dispatching. WC Cost 18.9. Order reward 61.85253385885596. Total 42.952533858855965.\n",
      "5.929416075222377\n",
      "42.952533858855965\n",
      "iter 1\n",
      "Node 0: 4 were assigned to orders, revenue 9.30056307974577.\n",
      "Node 1: 1 were assigned to orders, revenue 2.23606797749979.\n",
      "Node 2: 4 were assigned to orders, revenue 6.82842712474619.\n",
      "Node 3: 5 were assigned to orders, revenue 7.650281539872885.\n",
      "Node 4: 7 were assigned to orders, revenue 8.242640687119286.\n",
      "Node 5: 3 were assigned to orders, revenue 5.23606797749979.\n",
      "Node 6: 5 were assigned to orders, revenue 9.47213595499958.\n",
      "Node 7: 4 were assigned to orders, revenue 6.650281539872885.\n",
      "Node 8: 4 were assigned to orders, revenue 6.23606797749979.\n",
      "Removed 63 drivers due to dispatching. WC Cost 18.9. Order reward 61.85253385885596. Total 42.952533858855965.\n",
      "6.267322692231925\n",
      "42.952533858855965\n",
      "iter 2\n",
      "Node 0: 4 were assigned to orders, revenue 7.4787086646190755.\n",
      "Node 1: 4 were assigned to orders, revenue 6.650281539872885.\n",
      "Node 2: 2 were assigned to orders, revenue 3.23606797749979.\n",
      "Node 3: 5 were assigned to orders, revenue 7.47213595499958.\n",
      "Node 4: 2 were assigned to orders, revenue 2.414213562373095.\n",
      "Node 5: 3 were assigned to orders, revenue 4.650281539872885.\n",
      "Node 6: 6 were assigned to orders, revenue 9.70820393249937.\n",
      "Node 7: 1 were assigned to orders, revenue 1.0.\n",
      "Node 8: 3 were assigned to orders, revenue 4.0.\n",
      "Removed 70 drivers due to dispatching. WC Cost 21.0. Order reward 46.60989317173668. Total 25.60989317173668.\n",
      "6.452901245277591\n",
      "25.60989317173668\n",
      "iter 3\n",
      "Node 0: 2 were assigned to orders, revenue 3.6502815398728847.\n",
      "Node 1: 4 were assigned to orders, revenue 6.650281539872885.\n",
      "Node 2: 2 were assigned to orders, revenue 3.23606797749979.\n",
      "Node 3: 5 were assigned to orders, revenue 7.47213595499958.\n",
      "Node 4: 2 were assigned to orders, revenue 2.414213562373095.\n",
      "Node 5: 3 were assigned to orders, revenue 4.650281539872885.\n",
      "Node 6: 6 were assigned to orders, revenue 9.70820393249937.\n",
      "Node 7: 1 were assigned to orders, revenue 1.0.\n",
      "Node 8: 3 were assigned to orders, revenue 4.0.\n",
      "Removed 72 drivers due to dispatching. WC Cost 21.599999999999998. Order reward 42.78146604699049. Total 21.18146604699049.\n",
      "6.578575409545781\n",
      "21.18146604699049\n",
      "iter 4\n",
      "Node 0: 6 were assigned to orders, revenue 12.53663105724556.\n",
      "Node 1: 5 were assigned to orders, revenue 10.122417494872465.\n",
      "Node 2: 4 were assigned to orders, revenue 10.721349351738361.\n",
      "Node 3: 5 were assigned to orders, revenue 9.94427190999916.\n",
      "Node 4: 2 were assigned to orders, revenue 2.0.\n",
      "Node 5: 1 were assigned to orders, revenue 1.0.\n",
      "Node 6: 9 were assigned to orders, revenue 14.94427190999916.\n",
      "Node 7: 4 were assigned to orders, revenue 6.06449510224598.\n",
      "Node 8: 3 were assigned to orders, revenue 5.47213595499958.\n",
      "Removed 61 drivers due to dispatching. WC Cost 18.3. Order reward 72.80557278110027. Total 54.50557278110027.\n",
      "6.65186680535026\n",
      "54.50557278110027\n",
      "iter 5\n",
      "Node 0: 5 were assigned to orders, revenue 9.70820393249937.\n",
      "Node 1: 6 were assigned to orders, revenue 12.122417494872465.\n",
      "Node 2: 4 were assigned to orders, revenue 10.721349351738361.\n",
      "Node 3: 5 were assigned to orders, revenue 9.94427190999916.\n",
      "Node 4: 2 were assigned to orders, revenue 2.0.\n",
      "Node 5: 1 were assigned to orders, revenue 1.0.\n",
      "Node 6: 9 were assigned to orders, revenue 14.94427190999916.\n",
      "Node 7: 4 were assigned to orders, revenue 6.06449510224598.\n",
      "Node 8: 3 were assigned to orders, revenue 5.47213595499958.\n",
      "Removed 61 drivers due to dispatching. WC Cost 18.3. Order reward 71.97714565635408. Total 53.677145656354085.\n",
      "6.693175667346997\n",
      "53.677145656354085\n",
      "iter 6\n",
      "Node 0: 0 were assigned to orders, revenue 0.\n",
      "Node 1: 0 were assigned to orders, revenue 0.\n",
      "Node 2: 0 were assigned to orders, revenue 0.\n",
      "Node 3: 0 were assigned to orders, revenue 0.\n",
      "Node 4: 0 were assigned to orders, revenue 0.\n",
      "Node 5: 0 were assigned to orders, revenue 0.\n",
      "Node 6: 0 were assigned to orders, revenue 0.\n",
      "Node 7: 0 were assigned to orders, revenue 0.\n",
      "Node 8: 0 were assigned to orders, revenue 0.\n",
      "Removed 100 drivers due to dispatching. WC Cost 30.0. Order reward 0. Total -30.0.\n",
      "6.71664182946372\n",
      "-30.0\n",
      "iter 7\n",
      "Node 0: 0 were assigned to orders, revenue 0.\n",
      "Node 1: 0 were assigned to orders, revenue 0.\n",
      "Node 2: 0 were assigned to orders, revenue 0.\n",
      "Node 3: 0 were assigned to orders, revenue 0.\n",
      "Node 4: 0 were assigned to orders, revenue 0.\n",
      "Node 5: 0 were assigned to orders, revenue 0.\n",
      "Node 6: 0 were assigned to orders, revenue 0.\n",
      "Node 7: 0 were assigned to orders, revenue 0.\n",
      "Node 8: 0 were assigned to orders, revenue 0.\n",
      "Removed 100 drivers due to dispatching. WC Cost 30.0. Order reward 0. Total -30.0.\n",
      "6.730389246206088\n",
      "-30.0\n",
      "iter 8\n",
      "Node 0: 0 were assigned to orders, revenue 0.\n",
      "Node 1: 0 were assigned to orders, revenue 0.\n",
      "Node 2: 0 were assigned to orders, revenue 0.\n",
      "Node 3: 0 were assigned to orders, revenue 0.\n",
      "Node 4: 0 were assigned to orders, revenue 0.\n",
      "Node 5: 0 were assigned to orders, revenue 0.\n",
      "Node 6: 0 were assigned to orders, revenue 0.\n",
      "Node 7: 0 were assigned to orders, revenue 0.\n",
      "Node 8: 0 were assigned to orders, revenue 0.\n",
      "Removed 100 drivers due to dispatching. WC Cost 30.0. Order reward 0. Total -30.0.\n",
      "6.738811014628755\n",
      "-30.0\n",
      "iter 9\n",
      "Node 0: 0 were assigned to orders, revenue 0.\n",
      "Node 1: 0 were assigned to orders, revenue 0.\n",
      "Node 2: 0 were assigned to orders, revenue 0.\n",
      "Node 3: 0 were assigned to orders, revenue 0.\n",
      "Node 4: 0 were assigned to orders, revenue 0.\n",
      "Node 5: 0 were assigned to orders, revenue 0.\n",
      "Node 6: 0 were assigned to orders, revenue 0.\n",
      "Node 7: 0 were assigned to orders, revenue 0.\n",
      "Node 8: 0 were assigned to orders, revenue 0.\n",
      "Removed 100 drivers due to dispatching. WC Cost 30.0. Order reward 0. Total -30.0.\n",
      "6.7442401096471\n",
      "-30.0\n"
     ]
    }
   ],
   "source": [
    "env = CityReal(world, idle_driver_locations, real_orders,\n",
    "                        onoff_driver_locations, time_periods, 0.3)\n",
    "env.city_time = first_test_day*time_periods\n",
    "env.reset_randomseed(777)\n",
    "\n",
    "state = env.reset_clean()\n",
    "context = env.step_pre_order_assigin(state)\n",
    "\n",
    "order_response_rates = []\n",
    "s = []\n",
    "value_table = np.zeros((time_periods, len(world)))\n",
    "order_response_rates = []\n",
    "log['rewards'] = []\n",
    "log['min_income'] = []\n",
    "min_income = []\n",
    "log['actions'] = []\n",
    "log['number_of_orders'] = []\n",
    "params = {\"delta\": 0.5}\n",
    "rewards = []\n",
    "\n",
    "for t in range(10):\n",
    "    print(\"iter\", t)\n",
    "    dispatch_action = []\n",
    "    hour = (env.city_time // 1) % hours\n",
    "    for node in env.world.nodes():\n",
    "        neigbors = list(env.world.neighbors(node))\n",
    "        idle_cars = context[0][node]\n",
    "        targets = Counter(np.random.choice(neigbors, int(idle_cars), p=[A[hour, node, l] for l in neigbors]))\n",
    "        for k in targets:\n",
    "            dispatch_action.append((node, k, targets[k]))\n",
    "\n",
    "    state, reward, info = env.step(dispatch_action)\n",
    "\n",
    "    context = info[1]\n",
    "    value_table[t % time_periods] = info[0][0] # [node_reward, neighb_reward][0]\n",
    "\n",
    "    rewards.append(reward)\n",
    "    # print(reward, np.mean(rewards[-10:]))\n",
    "    # log['rewards'].append(np.mean(rewards))\n",
    "    log['rewards'].append(reward)\n",
    "    order_response_rates.append(env.order_response_rate)\n",
    "\n",
    "    time_period = t % 1\n",
    "    time_period_next = (t+1) % 1\n",
    "    hour = (t // 1) % hours\n",
    "    next_period_hour = ((t+1) // 1) % 1\n",
    "    Pr1 = Pr[hour]\n",
    "    expected_demand1 = expected_demand[hour]\n",
    "\n",
    "    avg_p = np.mean(p[time_period], axis=0)\n",
    "    number_of_cars = p.shape[1]\n",
    "    # inverese of expected cars per cell\n",
    "    reciprocal = np.divide(1-np.power(1-avg_p, number_of_cars), number_of_cars*avg_p)\n",
    "    reciprocal[np.where(avg_p == 0)] = 1\n",
    "\n",
    "    probability_of_busy = np.multiply(expected_demand1, reciprocal)\n",
    "    probability_of_busy[np.where(probability_of_busy > 1)] = 1\n",
    "    probability_of_busy_est = probability_of_busy\n",
    "\n",
    "\n",
    "    B = (Pr1.T * probability_of_busy).T + (A[hour].T * (1-probability_of_busy)).T\n",
    "    phi = np.dot(p[time_period], B)\n",
    "    r[time_period_next] = (1-params['delta'])*r[time_period] + params['delta']*phi\n",
    "    p[time_period_next] = r[time_period_next]\n",
    "\n",
    "    Pr_next = Pr[next_period_hour]\n",
    "    expected_demand_next = expected_demand[next_period_hour]\n",
    "    avg_p_next = np.mean(p[time_period_next], axis=0)\n",
    "    # inverese of expected cars per cell\n",
    "    reciprocal_next = np.divide(1-np.power(1-avg_p_next, number_of_cars), number_of_cars*avg_p_next)\n",
    "    probability_of_busy_next = np.multiply(expected_demand_next, reciprocal_next)\n",
    "    probability_of_busy_next[np.where(probability_of_busy_next > 1)] = 1\n",
    "    probability_of_busy_est = probability_of_busy\n",
    "\n",
    "    H = np.sum(np.multiply(Pr1, dist), axis=1) * probability_of_busy - (0.3 * (1-probability_of_busy))\n",
    "    print(np.sum(np.dot(p[time_period], H))) # expected income per car, over cells\n",
    "#     coef_slag = np.dot( np.dot(p[time_period], (Pr1.T * probability_of_busy).T), H)\n",
    "#     coef_dict = []\n",
    "#     for q in range(number_of_cars):\n",
    "#         coef_dict.append({})\n",
    "#         for var in variables:\n",
    "#             k = var[0]\n",
    "#             l = var[1]\n",
    "#             coef_dict[-1][var] = float(p[time_period, q, k] * (1-probability_of_busy[k]) * H[l])\n",
    "\n",
    "#     print([np.sum([coef_dict[q][v]*A[hour,v[0],v[1]] for v in variables]) + coef_slag[q] for q in range(number_of_cars)])\n",
    "#     expected_objective = np.sum([np.sum([coef_dict[q][v]*A[hour,v[0],v[1]] for v in variables]) + coef_slag[q] for q in range(number_of_cars)])\n",
    "#     log['expected_objective'].append(expected_objective)\n",
    "    \n",
    "    print(reward)#, expected_objective)"
   ]
  },
  {
   "cell_type": "markdown",
   "metadata": {},
   "source": [
    "# Dependency of cars distribution on initial cars distribution"
   ]
  },
  {
   "cell_type": "code",
   "execution_count": 15,
   "metadata": {},
   "outputs": [
    {
     "name": "stderr",
     "output_type": "stream",
     "text": [
      "2019-09-14 20:23:12,447 INFO 100053222 MainThread: \n",
      "============================ INIT EXPERIMENT ===============================\n",
      "\n"
     ]
    }
   ],
   "source": [
    "# load tidy grid data\n",
    "scriptname = \"rw_study\"\n",
    "with open(os.path.join('..','dags',scriptname + '.json'),'r') as f:\n",
    "    params = json.load(f)\n",
    "params['tag'] = scriptname\n",
    "experiment = Experiment(params)"
   ]
  },
  {
   "cell_type": "code",
   "execution_count": 16,
   "metadata": {},
   "outputs": [],
   "source": [
    "q = {\"tag\": experiment.tag, \"mode\": \"Train\", \"solver\": \"Rw\"}\n",
    "total_datasets = experiment.db.solution.count_documents(q)\n",
    "if (total_datasets == 0):\n",
    "    raise Exception(\"No learned models found for the tag\")\n",
    "\n",
    "d = next(experiment.db.solution.find(q))\n",
    "all_params = d\n",
    "del all_params[\"_id\"]\n",
    "all_params['mode'] = \"Test\""
   ]
  },
  {
   "cell_type": "code",
   "execution_count": 17,
   "metadata": {},
   "outputs": [],
   "source": [
    "solver = RwSolver(**all_params)"
   ]
  },
  {
   "cell_type": "code",
   "execution_count": 12,
   "metadata": {},
   "outputs": [],
   "source": [
    "p = solver.run()"
   ]
  },
  {
   "cell_type": "code",
   "execution_count": 11,
   "metadata": {},
   "outputs": [
    {
     "data": {
      "text/plain": [
       "<envs.CityReal at 0x12feb8a90>"
      ]
     },
     "execution_count": 11,
     "metadata": {},
     "output_type": "execute_result"
    }
   ],
   "source": [
    "# take the last state of testing\n",
    "solver.env"
   ]
  },
  {
   "cell_type": "code",
   "execution_count": 14,
   "metadata": {},
   "outputs": [],
   "source": [
    "context = np.zeros((len(solver.env.world),1)) # drivers' distribution\n"
   ]
  },
  {
   "cell_type": "code",
   "execution_count": null,
   "metadata": {},
   "outputs": [],
   "source": [
    "solver.get_dispatch_action(env, None, context)"
   ]
  }
 ],
 "metadata": {
  "kernelspec": {
   "display_name": "Python 3",
   "language": "python",
   "name": "python3"
  },
  "language_info": {
   "codemirror_mode": {
    "name": "ipython",
    "version": 3
   },
   "file_extension": ".py",
   "mimetype": "text/x-python",
   "name": "python",
   "nbconvert_exporter": "python",
   "pygments_lexer": "ipython3",
   "version": "3.7.3"
  }
 },
 "nbformat": 4,
 "nbformat_minor": 2
}
